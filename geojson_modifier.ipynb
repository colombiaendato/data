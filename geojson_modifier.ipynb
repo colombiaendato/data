{
 "cells": [
  {
   "cell_type": "code",
   "execution_count": 1,
   "metadata": {},
   "outputs": [],
   "source": [
    "import json"
   ]
  },
  {
   "cell_type": "code",
   "execution_count": 9,
   "metadata": {},
   "outputs": [],
   "source": [
    "#Not San Andres y Providencia\n",
    "data = json.load(open('./geojsons/colombia/colombia.geojson'))\n",
    "new_features = []\n",
    "for f in data['features']:\n",
    "    if f['properties']['DPTO'] != '88':\n",
    "        new_features.append(f)\n",
    "data['features'] = new_features\n",
    "with open('./geojsons/colombia/colombia_not_s_y_p.geojson', 'w') as fp:\n",
    "    json.dump(data, fp)"
   ]
  },
  {
   "cell_type": "code",
   "execution_count": 6,
   "metadata": {},
   "outputs": [],
   "source": [
    "standard_dict = {    \n",
    "    \"ANTIOQUIA\":\"ANTIOQUIA\",\n",
    "    \"ATLANTICO\":\"ATLANTICO\",\n",
    "    \"SANTAFE DE BOGOTA D.C\":\"BOGOTA\",\n",
    "    \"BOLIVAR\":\"BOLIVAR\",\n",
    "    \"BOYACA\":\"BOYACA\",\n",
    "    \"CALDAS\":\"CALDAS\",\n",
    "    \"CAQUETA\":\"CAQUETA\",\n",
    "    \"CAUCA\":\"CAUCA\",\n",
    "    \"CESAR\":\"CESAR\",\n",
    "    \"CORDOBA\":\"CORDOBA\",\n",
    "    \"CUNDINAMARCA\":\"CUNDINAMARCA\",\n",
    "    \"CHOCO\":\"CHOCO\",\n",
    "    \"HUILA\":\"HUILA\",\n",
    "    \"LA GUAJIRA\":\"GUAJIRA\",\n",
    "    \"MAGDALENA\":\"MAGDALENA\",\n",
    "    \"META\":\"META\",\n",
    "    \"NARIÑO\":\"NARINO\",\n",
    "    \"NORTE DE SANTANDER\":\"NORTEDESANTANDER\",\n",
    "    \"QUINDIO\":\"QUINDIO\",\n",
    "    \"RISARALDA\":\"RISARALDA\",\n",
    "    \"SANTANDER\":\"SANTANDER\",\n",
    "    \"SUCRE\":\"SUCRE\",\n",
    "    \"TOLIMA\":\"TOLIMA\",\n",
    "    \"VALLE DEL CAUCA\":\"VALLEDELCAUCA\",\n",
    "    \"ARAUCA\":\"ARAUCA\",\n",
    "    \"CASANARE\":\"CASANARE\",\n",
    "    \"PUTUMAYO\":\"PUTUMAYO\",\n",
    "    \"AMAZONAS\":\"AMAZONAS\",\n",
    "    \"GUAINIA\":\"GUAINIA\",\n",
    "    \"GUAVIARE\":\"GUAVIARE\",\n",
    "    \"VAUPES\":\"VAUPES\",\n",
    "    \"VICHADA\":\"VICHADA\",\n",
    "    \"ARCHIPIELAGO DE SAN ANDRES PROVIDENCIA Y SANTA CATALINA\":\"SANANDRES\"\n",
    "}"
   ]
  },
  {
   "cell_type": "code",
   "execution_count": 9,
   "metadata": {},
   "outputs": [],
   "source": [
    "#Standard names\n",
    "data = json.load(open('./geojsons/colombia/colombia.geojson'))\n",
    "new_features = []\n",
    "for f in data['features']:\n",
    "    f['properties']['STD_ID'] = standard_dict[f['properties']['NOMBRE_DPT']]\n",
    "    new_features.append(f)\n",
    "data['features'] = new_features\n",
    "with open('./geojsons/colombia/colombia_std_names.geojson', 'w') as fp:\n",
    "    json.dump(data, fp)"
   ]
  }
 ],
 "metadata": {
  "kernelspec": {
   "display_name": "Python 3",
   "language": "python",
   "name": "python3"
  },
  "language_info": {
   "codemirror_mode": {
    "name": "ipython",
    "version": 3
   },
   "file_extension": ".py",
   "mimetype": "text/x-python",
   "name": "python",
   "nbconvert_exporter": "python",
   "pygments_lexer": "ipython3",
   "version": "3.6.3"
  }
 },
 "nbformat": 4,
 "nbformat_minor": 2
}
